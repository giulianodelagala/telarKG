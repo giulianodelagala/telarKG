{
 "cells": [
  {
   "cell_type": "markdown",
   "metadata": {},
   "source": [
    "# Previous Version"
   ]
  },
  {
   "cell_type": "code",
   "execution_count": 1,
   "metadata": {},
   "outputs": [],
   "source": [
    "import millenium\n",
    "import os\n",
    "import json\n",
    "from tqdm import tqdm\n",
    "import torch\n",
    "import numpy as np\n",
    "import time\n",
    "\n",
    "os.chdir(\"/home/mdbai/telarKG/\")\n",
    "PROJECT_DIR = os.getcwd()"
   ]
  },
  {
   "cell_type": "code",
   "execution_count": 5,
   "metadata": {},
   "outputs": [
    {
     "name": "stdout",
     "output_type": "stream",
     "text": [
      "Initializing server...\n",
      "-------------------------------------\n",
      "Catalog:\n",
      "  identifiable nodes count: 20337308\n",
      "  anonymous nodes count:    0\n",
      "  connections count:        2675665\n",
      "  label count:              20477066\n",
      "  properties count:         265586131\n",
      "  distinct labels:          28\n",
      "  distinct from's:          572591\n",
      "  distinct to's:            451198\n",
      "  distinct type's:          23\n",
      "  distinct keys:            117\n",
      "  equal_from_to_count:      0\n",
      "  equal_from_type_count:    0\n",
      "  equal_to_type_count:      0\n",
      "  equal_from_to_type_count: 0\n",
      "-------------------------------------\n",
      "Server running on port 8080\n",
      "To terminate press CTRL-C\n"
     ]
    }
   ],
   "source": [
    "telar_server = millenium.ML(port=8080)"
   ]
  },
  {
   "cell_type": "code",
   "execution_count": 20,
   "metadata": {},
   "outputs": [],
   "source": [
    "# load node n edge attributes from json\n",
    "with open(PROJECT_DIR + \"/data/node_attribute.json\", \"r\") as file:\n",
    "    node_attrs = json.load(file)\n",
    "\n",
    "with open(PROJECT_DIR + \"/data/edge_type_attribute.json\", \"r\") as file:\n",
    "    edge_attrs = json.load(file)"
   ]
  },
  {
   "cell_type": "code",
   "execution_count": 21,
   "metadata": {},
   "outputs": [],
   "source": [
    "def get_instances_from_json(label: str):\n",
    "    with open(PROJECT_DIR + f\"/data/Nodes/{label}_instances.json\", \"r\") as file:\n",
    "        results = json.load(file)\n",
    "\n",
    "    return [instance[\"?instance\"] for instance in results[\"results\"][\"bindings\"]]"
   ]
  },
  {
   "cell_type": "code",
   "execution_count": 33,
   "metadata": {},
   "outputs": [],
   "source": [
    "def get_describe_from_list(query_list: list):\n",
    "    for i in query_list:\n",
    "        with open(\".tmp_describe.txt\", \"w\") as file:\n",
    "            query = f\"DESCRIBE {i}\"\n",
    "            file.write(query)\n",
    "        telar_server.run_to_file(\n",
    "            test_file=\".tmp_describe.txt\", output_file=\".tmp_query.json\"\n",
    "        )\n",
    "\n",
    "        with open(\".tmp_query.json\", \"r\") as file_temp:\n",
    "            output = json.load(file_temp)\n",
    "\n",
    "    return output"
   ]
  },
  {
   "cell_type": "code",
   "execution_count": 23,
   "metadata": {},
   "outputs": [],
   "source": [
    "# load labels from file\n",
    "telar_node_labels = []\n",
    "with open(os.path.join(PROJECT_DIR, \"data/node_labels.txt\"), \"r\") as file:\n",
    "    lines = file.readlines()\n",
    "    for line in lines:\n",
    "        telar_node_labels.append(line.strip('\",\\n'))"
   ]
  },
  {
   "cell_type": "code",
   "execution_count": 24,
   "metadata": {},
   "outputs": [
    {
     "data": {
      "text/plain": [
       "['ConventionMember',\n",
       " 'Chat',\n",
       " 'Pact',\n",
       " 'CommissionMaterial',\n",
       " 'TrendingTopic',\n",
       " 'Topic',\n",
       " 'Transcription',\n",
       " 'Tweet',\n",
       " 'Speech',\n",
       " 'FacebookPost',\n",
       " 'Video',\n",
       " 'Party',\n",
       " 'Candidate',\n",
       " 'VoteResult',\n",
       " 'TwitterAccount',\n",
       " 'TypeContent',\n",
       " 'FacebookAccount',\n",
       " 'Intervention',\n",
       " 'District',\n",
       " 'PlenaryMaterial',\n",
       " 'PoliticalGroupConvention',\n",
       " 'InstagramPost',\n",
       " 'Commission',\n",
       " 'PlenarySession',\n",
       " 'CommissionSession',\n",
       " 'Gender',\n",
       " 'InstagramAccount',\n",
       " 'Language']"
      ]
     },
     "execution_count": 24,
     "metadata": {},
     "output_type": "execute_result"
    }
   ],
   "source": [
    "telar_node_labels"
   ]
  },
  {
   "cell_type": "code",
   "execution_count": 50,
   "metadata": {},
   "outputs": [],
   "source": [
    "instances = get_instances_from_json(\"TrendingTopic\")"
   ]
  },
  {
   "cell_type": "code",
   "execution_count": 51,
   "metadata": {},
   "outputs": [
    {
     "name": "stdout",
     "output_type": "stream",
     "text": [
      "---------------------------------------\n",
      " Query received:\n",
      "---------------------------------------\n",
      "DESCRIBE tt_20220918230019_0000\n",
      "---------------------------------------\n",
      "OpDescribe(LABELS PROPERTIES OUTGOING INCOMING tt_20220918230019_0000)\n",
      "\n",
      "\n",
      "Plan Executed:\n",
      "Describe()\n",
      "Results: 52\n"
     ]
    }
   ],
   "source": [
    "sample = get_describe_from_list([instances[0]])"
   ]
  },
  {
   "cell_type": "code",
   "execution_count": 52,
   "metadata": {},
   "outputs": [
    {
     "data": {
      "text/plain": [
       "{'labels': ['TrendingTopic'],\n",
       " 'properties': {'createdAt': '2022-09-18 23:00:19+00:00'},\n",
       " 'outgoing': [],\n",
       " 'incoming': [{'node': 'topic_EEUU',\n",
       "   'type': 'trendingAt',\n",
       "   'edge': '_e1114463'},\n",
       "  {'node': 'topic_Lima', 'type': 'trendingAt', 'edge': '_e1114466'},\n",
       "  {'node': 'topic_GTA_6', 'type': 'trendingAt', 'edge': '_e1114475'},\n",
       "  {'node': 'topic_Hamas', 'type': 'trendingAt', 'edge': '_e1114479'},\n",
       "  {'node': 'topic_Pena', 'type': 'trendingAt', 'edge': '_e1114485'},\n",
       "  {'node': 'topic_Un_18', 'type': 'trendingAt', 'edge': '_e1114486'},\n",
       "  {'node': 'topic_Weber', 'type': 'trendingAt', 'edge': '_e1114487'},\n",
       "  {'node': 'topic_GTA_VI', 'type': 'trendingAt', 'edge': '_e1114491'},\n",
       "  {'node': 'topic_Rodrygo', 'type': 'trendingAt', 'edge': '_e1114499'},\n",
       "  {'node': 'topic_Simeone', 'type': 'trendingAt', 'edge': '_e1114502'},\n",
       "  {'node': 'topic_Taiwan', 'type': 'trendingAt', 'edge': '_e1114504'},\n",
       "  {'node': 'topic_Catedral', 'type': 'trendingAt', 'edge': '_e1115226'},\n",
       "  {'node': 'topic_Feliz_18', 'type': 'trendingAt', 'edge': '_e1114513'},\n",
       "  {'node': 'topic_Golovkin', 'type': 'trendingAt', 'edge': '_e1114515'},\n",
       "  {'node': 'topic_Reinildo', 'type': 'trendingAt', 'edge': '_e1114518'},\n",
       "  {'node': 'topic_Rockstar', 'type': 'trendingAt', 'edge': '_e1114523'},\n",
       "  {'node': 'topic_Valverde', 'type': 'trendingAt', 'edge': '_e1114527'},\n",
       "  {'node': 'topic_Vinicius', 'type': 'trendingAt', 'edge': '_e1114530'},\n",
       "  {'node': 'topic_Mosciatti', 'type': 'trendingAt', 'edge': '_e1114539'},\n",
       "  {'node': 'topic_Palestina', 'type': 'trendingAt', 'edge': '_e1114542'},\n",
       "  {'node': 'topic__AcusacionConstitucional',\n",
       "   'type': 'trendingAt',\n",
       "   'edge': '_e1115268'},\n",
       "  {'node': 'topic_DDHH', 'type': 'trendingAt', 'edge': '_e1114765'},\n",
       "  {'node': 'topic_Israel', 'type': 'trendingAt', 'edge': '_e1114880'},\n",
       "  {'node': 'topic_Dammert', 'type': 'trendingAt', 'edge': '_e1114918'},\n",
       "  {'node': 'topic_Iran', 'type': 'trendingAt', 'edge': '_e1114977'},\n",
       "  {'node': 'topic_Carlos_II', 'type': 'trendingAt', 'edge': '_e1115603'},\n",
       "  {'node': 'topic_Viva_Chile', 'type': 'trendingAt', 'edge': '_e1115062'},\n",
       "  {'node': 'topic_Viva_Chile', 'type': 'trendingAt', 'edge': '_e1115063'},\n",
       "  {'node': 'topic__ParadaMilitar2022',\n",
       "   'type': 'trendingAt',\n",
       "   'edge': '_e1115137'},\n",
       "  {'node': 'topic_San_Martin', 'type': 'trendingAt', 'edge': '_e1115653'},\n",
       "  {'node': 'topic_Jano', 'type': 'trendingAt', 'edge': '_e1115201'},\n",
       "  {'node': 'topic_OCDE', 'type': 'trendingAt', 'edge': '_e1115202'},\n",
       "  {'node': 'topic_RREE', 'type': 'trendingAt', 'edge': '_e1115206'},\n",
       "  {'node': 'topic_Opino', 'type': 'trendingAt', 'edge': '_e1115211'},\n",
       "  {'node': 'topic_Blandi', 'type': 'trendingAt', 'edge': '_e1115213'},\n",
       "  {'node': 'topic_Solari', 'type': 'trendingAt', 'edge': '_e1115218'},\n",
       "  {'node': 'topic__Tedeum', 'type': 'trendingAt', 'edge': '_e1115223'},\n",
       "  {'node': 'topic_Standly', 'type': 'trendingAt', 'edge': '_e1115224'},\n",
       "  {'node': 'topic_Matamala', 'type': 'trendingAt', 'edge': '_e1115228'},\n",
       "  {'node': 'topic_Urrejola', 'type': 'trendingAt', 'edge': '_e1115231'},\n",
       "  {'node': 'topic_Varillas', 'type': 'trendingAt', 'edge': '_e1115233'},\n",
       "  {'node': 'topic_Los_Jaivas', 'type': 'trendingAt', 'edge': '_e1115236'},\n",
       "  {'node': 'topic_Mamarracho', 'type': 'trendingAt', 'edge': '_e1115239'},\n",
       "  {'node': 'topic_Solabarrieta', 'type': 'trendingAt', 'edge': '_e1115246'},\n",
       "  {'node': 'topic_Arabia_Saudita', 'type': 'trendingAt', 'edge': '_e1115251'},\n",
       "  {'node': 'topic__CopaDavisEnTVN', 'type': 'trendingAt', 'edge': '_e1115252'},\n",
       "  {'node': 'topic_Reino_de_Espana', 'type': 'trendingAt', 'edge': '_e1115259'},\n",
       "  {'node': 'topic__merluzoverguenzamundial',\n",
       "   'type': 'trendingAt',\n",
       "   'edge': '_e1115269'},\n",
       "  {'node': 'topic_Jarry', 'type': 'trendingAt', 'edge': '_e1115532'},\n",
       "  {'node': 'topic_Tabilo', 'type': 'trendingAt', 'edge': '_e1115567'}]}"
      ]
     },
     "execution_count": 52,
     "metadata": {},
     "output_type": "execute_result"
    }
   ],
   "source": [
    "sample"
   ]
  },
  {
   "cell_type": "code",
   "execution_count": 7,
   "metadata": {},
   "outputs": [
    {
     "name": "stdout",
     "output_type": "stream",
     "text": [
      "server shutdown\n"
     ]
    },
    {
     "name": "stdout",
     "output_type": "stream",
     "text": [
      "\n",
      "Server shutting down\n"
     ]
    }
   ],
   "source": [
    "telar_server.shutting_down()"
   ]
  },
  {
   "cell_type": "markdown",
   "metadata": {},
   "source": [
    "# New Version"
   ]
  },
  {
   "cell_type": "code",
   "execution_count": 47,
   "metadata": {},
   "outputs": [],
   "source": [
    "from rdflib import Graph, Literal, BNode, Namespace, RDF, URIRef\n",
    "from rdflib.namespace import DC, FOAF, XSD\n",
    "\n",
    "import json\n",
    "\n",
    "from pymilldb import Connection"
   ]
  },
  {
   "cell_type": "code",
   "execution_count": 48,
   "metadata": {},
   "outputs": [],
   "source": [
    "conn = Connection(\"localhost\", 8040)"
   ]
  },
  {
   "cell_type": "code",
   "execution_count": 46,
   "metadata": {},
   "outputs": [
    {
     "data": {
      "text/plain": [
       "<Graph identifier=N30277e4bbd9d41879426b9eebd0863aa (<class 'rdflib.graph.Graph'>)>"
      ]
     },
     "execution_count": 46,
     "metadata": {},
     "output_type": "execute_result"
    }
   ],
   "source": [
    "g = Graph()\n",
    "g.parse('telarKG_schema.ttl', format='ttl')"
   ]
  },
  {
   "cell_type": "code",
   "execution_count": null,
   "metadata": {},
   "outputs": [],
   "source": [
    "cur = conn.execute(\"MATCH (?member :ConventionMember) RETURN ?member,\\\n",
    "                    ?member.name, ?member.orden, ?member.elections, \\\n",
    "                    ?member.patrimony, ?member.pact2409, ?member.nominateNames,\\\n",
    "                    ?member.nombreEnPartido, ?member.alternative, ?member.candidateOf\")\n",
    "res = cur.fetchall()"
   ]
  },
  {
   "cell_type": "code",
   "execution_count": null,
   "metadata": {},
   "outputs": [],
   "source": [
    "for elem in res:\n",
    "    print(elem)"
   ]
  }
 ],
 "metadata": {
  "kernelspec": {
   "display_name": "env-telarKG",
   "language": "python",
   "name": "python3"
  },
  "language_info": {
   "codemirror_mode": {
    "name": "ipython",
    "version": 3
   },
   "file_extension": ".py",
   "mimetype": "text/x-python",
   "name": "python",
   "nbconvert_exporter": "python",
   "pygments_lexer": "ipython3",
   "version": "3.10.12"
  }
 },
 "nbformat": 4,
 "nbformat_minor": 2
}
